{
 "cells": [
  {
   "cell_type": "code",
   "execution_count": 1,
   "metadata": {},
   "outputs": [
    {
     "data": {
      "text/plain": [
       "{'sprint': 'To run at a faster than normal pace',\n",
       " 'run': 'To move at a pace faster than walking by foot.'}"
      ]
     },
     "execution_count": 1,
     "metadata": {},
     "output_type": "execute_result"
    }
   ],
   "source": [
    "dct = {}\n",
    "dct = {\"sprint\" : \"To run at a faster than normal pace\", \"run\" : \"To move at a pace faster than walking by foot.\"}\n",
    "dct"
   ]
  },
  {
   "cell_type": "code",
   "execution_count": 6,
   "metadata": {},
   "outputs": [],
   "source": [
    "dct = {\"Left\" : {\"adjective\" : \"On the left side\" , \"Noun\" : \"Representing a political party that favors liberal or socialist views\" }, 'Right' : {'Adjective' : 'to the right side' , 'Noun' : \"Representing a political party that favors conservative views\"}}"
   ]
  },
  {
   "cell_type": "code",
   "execution_count": 3,
   "metadata": {},
   "outputs": [
    {
     "data": {
      "text/plain": [
       "{'Left': {'adjective': 'On the left side',\n",
       "  'Noun': 'Representing a political party that favors liberal or socialist views'},\n",
       " 'Right': {'Adjective': 'to the right side',\n",
       "  'Noun': 'Representing a political party that favors conservative views'}}"
      ]
     },
     "execution_count": 3,
     "metadata": {},
     "output_type": "execute_result"
    }
   ],
   "source": [
    "dct"
   ]
  },
  {
   "cell_type": "code",
   "execution_count": 4,
   "metadata": {},
   "outputs": [
    {
     "data": {
      "text/html": [
       "<div>\n",
       "<style scoped>\n",
       "    .dataframe tbody tr th:only-of-type {\n",
       "        vertical-align: middle;\n",
       "    }\n",
       "\n",
       "    .dataframe tbody tr th {\n",
       "        vertical-align: top;\n",
       "    }\n",
       "\n",
       "    .dataframe thead th {\n",
       "        text-align: right;\n",
       "    }\n",
       "</style>\n",
       "<table border=\"1\" class=\"dataframe\">\n",
       "  <thead>\n",
       "    <tr style=\"text-align: right;\">\n",
       "      <th></th>\n",
       "      <th>Left</th>\n",
       "      <th>Right</th>\n",
       "    </tr>\n",
       "  </thead>\n",
       "  <tbody>\n",
       "    <tr>\n",
       "      <th>adjective</th>\n",
       "      <td>On the left side</td>\n",
       "      <td>NaN</td>\n",
       "    </tr>\n",
       "    <tr>\n",
       "      <th>Noun</th>\n",
       "      <td>Representing a political party that favors lib...</td>\n",
       "      <td>Representing a political party that favors con...</td>\n",
       "    </tr>\n",
       "    <tr>\n",
       "      <th>Adjective</th>\n",
       "      <td>NaN</td>\n",
       "      <td>to the right side</td>\n",
       "    </tr>\n",
       "  </tbody>\n",
       "</table>\n",
       "</div>"
      ],
      "text/plain": [
       "                                                        Left  \\\n",
       "adjective                                   On the left side   \n",
       "Noun       Representing a political party that favors lib...   \n",
       "Adjective                                                NaN   \n",
       "\n",
       "                                                       Right  \n",
       "adjective                                                NaN  \n",
       "Noun       Representing a political party that favors con...  \n",
       "Adjective                                  to the right side  "
      ]
     },
     "execution_count": 4,
     "metadata": {},
     "output_type": "execute_result"
    }
   ],
   "source": [
    "import pandas as pd\n",
    "df = pd.DataFrame (dct)\n",
    "df"
   ]
  },
  {
   "cell_type": "code",
   "execution_count": 11,
   "metadata": {},
   "outputs": [
    {
     "data": {
      "text/plain": [
       "{'Tyler': {}, 'Sam': {}, 'Jack': {}}"
      ]
     },
     "execution_count": 11,
     "metadata": {},
     "output_type": "execute_result"
    }
   ],
   "source": [
    "dct = {'Tyler' : {},\n",
    "      'Sam' : {},\n",
    "      \"Jack\" : {}}\n",
    "dct"
   ]
  },
  {
   "cell_type": "code",
   "execution_count": 12,
   "metadata": {},
   "outputs": [
    {
     "data": {
      "text/plain": [
       "{'Tyler': {'Age': 21}, 'Sam': {'Age': 21}, 'Jack': {'Age': 21}}"
      ]
     },
     "execution_count": 12,
     "metadata": {},
     "output_type": "execute_result"
    }
   ],
   "source": [
    "dct['Tyler']['Age'] = 21\n",
    "dct['Sam']['Age'] = 21\n",
    "dct['Jack']['Age'] = 21\n",
    "\n",
    "dct"
   ]
  },
  {
   "cell_type": "code",
   "execution_count": 13,
   "metadata": {},
   "outputs": [
    {
     "data": {
      "text/plain": [
       "{'Tyler': {'Age': 21,\n",
       "  'Interesting Fact': 'I have reached the rank of grand champ in Rocket League!'},\n",
       " 'Sam': {'Age': 21, 'Interesting Fact': 'I have two pet hermit crabs!'},\n",
       " 'Jack': {'Age': 21,\n",
       "  'Interesting Fact': 'I have never broken a bone in my life!'}}"
      ]
     },
     "execution_count": 13,
     "metadata": {},
     "output_type": "execute_result"
    }
   ],
   "source": [
    "dct['Tyler']['Age'] = 21\n",
    "dct['Tyler']['Interesting Fact'] = \"I have reached the rank of grand champ in Rocket League!\"\n",
    "dct['Sam']['Age'] = 21\n",
    "dct['Sam']['Interesting Fact'] = \"I have two pet hermit crabs!\"\n",
    "dct['Jack']['Age'] = 21\n",
    "dct['Jack']['Interesting Fact'] = \"I have never broken a bone in my life!\"\n",
    "dct"
   ]
  },
  {
   "cell_type": "code",
   "execution_count": 14,
   "metadata": {},
   "outputs": [
    {
     "data": {
      "text/html": [
       "<div>\n",
       "<style scoped>\n",
       "    .dataframe tbody tr th:only-of-type {\n",
       "        vertical-align: middle;\n",
       "    }\n",
       "\n",
       "    .dataframe tbody tr th {\n",
       "        vertical-align: top;\n",
       "    }\n",
       "\n",
       "    .dataframe thead th {\n",
       "        text-align: right;\n",
       "    }\n",
       "</style>\n",
       "<table border=\"1\" class=\"dataframe\">\n",
       "  <thead>\n",
       "    <tr style=\"text-align: right;\">\n",
       "      <th></th>\n",
       "      <th>Tyler</th>\n",
       "      <th>Sam</th>\n",
       "      <th>Jack</th>\n",
       "    </tr>\n",
       "  </thead>\n",
       "  <tbody>\n",
       "    <tr>\n",
       "      <th>Age</th>\n",
       "      <td>21</td>\n",
       "      <td>21</td>\n",
       "      <td>21</td>\n",
       "    </tr>\n",
       "    <tr>\n",
       "      <th>Interesting Fact</th>\n",
       "      <td>I have reached the rank of grand champ in Rock...</td>\n",
       "      <td>I have two pet hermit crabs!</td>\n",
       "      <td>I have never broken a bone in my life!</td>\n",
       "    </tr>\n",
       "  </tbody>\n",
       "</table>\n",
       "</div>"
      ],
      "text/plain": [
       "                                                              Tyler  \\\n",
       "Age                                                              21   \n",
       "Interesting Fact  I have reached the rank of grand champ in Rock...   \n",
       "\n",
       "                                           Sam  \\\n",
       "Age                                         21   \n",
       "Interesting Fact  I have two pet hermit crabs!   \n",
       "\n",
       "                                                    Jack  \n",
       "Age                                                   21  \n",
       "Interesting Fact  I have never broken a bone in my life!  "
      ]
     },
     "execution_count": 14,
     "metadata": {},
     "output_type": "execute_result"
    }
   ],
   "source": [
    "df = pd.DataFrame(dct)\n",
    "df"
   ]
  },
  {
   "cell_type": "code",
   "execution_count": 2,
   "metadata": {},
   "outputs": [
    {
     "data": {
      "text/plain": [
       "{'William Nganje': {'Website': 'https://www.ndsu.edu/agecon/faculty/william_nganje/#c622350',\n",
       "  'Areas of Specialization': 'Risk management; financial analysis; economics of obesity, food safety and food terrorism; experimental economics; and consumer choice theory',\n",
       "  'Bio': 'NA'},\n",
       " 'David Bullock': {'Website': 'https://www.ndsu.edu/agecon/faculty/bullock/#c622728',\n",
       "  'Areas of Specialization': 'futures and options markets, over-the-counter derivatives, trading, risk management, agrifinance, Monte Carlo simulation, and Big Data',\n",
       "  'Bio': 'Dr. David W. Bullock is a Research Associate Professor affiliated with the Center for Trading and Risk at NDSU.  His research interests include futures and options markets, over-the-counter derivatives, trading, risk management, agrifinance, Monte Carlo simulation, and Big Data applications in agriculture.  His academic research in option portfolio theory has been published in both the Journal of Economics and Business and the International Review of Economics and Finance.  Additionally, he was the primary contributor behind the AgriBank Insights publication series which won a National AgriMarketing Association (NAMA) award for the best company publication in 2016. Before coming to NDSU in January 2018, Dr. Bullock held numerous positions for over 25 years in the government and private sectors including the Senior Economist at AgriBank FCB – the regional Farm Credit System funding bank for the Upper Midwest region, Director of Research and Senior Foods Economist at Fortune 500 commodity risk management firm INTL FCStone Inc., the Senior Dairy Analyst at Informa Economics, a Risk Management Specialist with the Minnesota Department of Agriculture, and the Senior Economist at the Minneapolis Grain Exchange. David began his academic career as an Assistant Professor and Extension Marketing Economist at Montana State University after graduating from Iowa State University with a Ph.D. in agricultural economics with fields in agricultural price analysis and econometrics in 1989.  Prior to entering ISU, he received bachelor’s (1982) and master’s (1984) degrees in agricultural economics from Northwest Missouri State University. Dr. Bullock is originally from the small northwestern Missouri farming community of Lathrop which is located 40 miles north of the Kansas City metropolitan area.  While in high school, he served as a regional state Vice-President in the Future Farmers of America (FFA) during his senior year.'},\n",
       " 'James Caton': {'Website': 'https://www.ndsu.edu/centers/pcpe/about/directory/james_caton/',\n",
       "  'Areas of Specialization': 'Entrepreneurship, Institutions, Macroeconomics, Computation',\n",
       "  'Bio': \"James Caton is a faculty fellow at the NDSU Center for the Study of Public Choice and Private Enterprise (PCPE) and an assistant professor in the NDSU Department of Agribusiness and Applied Economics. He teaches undergraduate courses in the areas of macroeconomics, international trade, and computation. He specializes in research related to entrepreneurship, agent-based computational economics, market process theory, and monetary economics. His research has been published in the Southern Economic Journal, Erasmus Journal for Philosophy and Economics, Journal of Entrepreneurship and Public Policy and other academic publications. He co-edited Macroeconomics, a two volume set of essays and primary sources that represent the core of macroeconomic thought. He is also a regular contributor to the American Institute for Economic Research's Sound Money Project, which conducts research and promotes awareness about monetary stability and financial privacy. He resides in Fargo with his wife, Ingrid, and their children.\"},\n",
       " 'David Englund': {'Website': 'https://www.ndsu.edu/agecon/faculty/englund/#c622903',\n",
       "  'Areas of Specialization': 'Teaches Economic Principles, Led NDSU NAMA to National Champions',\n",
       "  'Bio': 'David Englund is a lecturer in the department.  He came to the department with 16 years of teaching experience, having taught Principles of Microeconomics, Principles of Macroeconomics, Money and Banking, Consumer Behavior, Selected Topics in Business, and several other classes.  He also had 10 years’ experience advising student NAMA chapters, having been awarded the Outstanding Advisor of the Year for a Developing Chapter in 2002, and the Outstanding Advisor of the Year award in 2009.\\nDavid primarily teaches Survey of Economics, Principles of Microeconomics, Skills for Academic Success, Agricultural Marketing, and NAMA (co-teaches).  He joined the NAMA team in the 2014-2015 school year as a co-advisor and helped coach the student team to a 3rd place finish in the national student marketing plan competition at the national conference.\\nSome of David’s outside interests are jogging, photography, and writing fiction novels.  His latest release, Camouflaged Encounters has received positive reviews.'},\n",
       " 'Erik Hanson': {'Website': 'https://www.ndsu.edu/agecon/faculty/hanson/#c622905',\n",
       "  'Areas of Specialization': 'Ag Management, Ag Finance',\n",
       "  'Bio': 'Erik Hanson is an Assistant Professor in the Department of Agricultural and Applied Economics. He teaches courses on agribusiness management and agricultural finance. Erik completed his Ph.D. at the University of Minnesota in 2016. Prior to that, Erik completed a master’s degree at the University of Illinois (2013) and a bachelor’s degree at Minnesota State University Moorhead (2011).'},\n",
       " 'Jeremy Jackson': {'Website': 'https://www.ndsu.edu/centers/pcpe/about/directory/jeremy_jackson/',\n",
       "  'Areas of Specialization': 'Public choice and Political economics',\n",
       "  'Bio': 'Jeremy Jackson is the director of the NDSU Center for the Study of Public Choice and Private Enterprise (PCPE) and a professor in the NDSU Department of Agribusiness and Applied Economics. He teaches undergraduate and graduate courses in the areas of microeconomics, public economics, and game theory and strategy. His research covers diverse topics, including public choice and the political economy; the social consequences of economic freedom; happiness and well-being; and philanthropy and nonprofits. His research has been published in Applied Economics, The Independent Review, Public Choice, Contemporary Economic Policy, Journal of Happiness Studies, and other refereed and non-refereed sources. He is a member of the Foundation for Economic Education Faculty Network, American Economic Association, Association of Private Enterprise Education, Omnicron Delta Epsilon, Public Choice Society, and Association for Public Economic Theory. Jeremy resides in Fargo with his wife, Dr. Elizabeth Crawford, and their two sons.'},\n",
       " 'Siew Lim': {'Website': 'https://www.ndsu.edu/agecon/faculty/lim/',\n",
       "  'Areas of Specialization': 'applied microeconomics, production economics, industrial organization, transportation and regional development',\n",
       "  'Bio': 'Siew Hoon Lim is an associate professor of economics. Her current research is in applied microeconomics, production economics, industrial organization, transportation and regional development. Her recent research works include transportation and  regional development.'},\n",
       " 'Zachary Machunda': {'Website': 'https://www.ndsu.edu/agecon/faculty/machunda/',\n",
       "  'Areas of Specialization': 'Principles of Microeconomics, Principles of Macroeconomics, Introductory Statistics for regional planning majors, Essentials of Economics (The American Economy), Global Economic Issues and the Economics of Poverty, Discrimination and Inequality',\n",
       "  'Bio': 'Dr. Zachary B. Machunda joined the Department of Agribusiness and Applied Economics at NDSU in fall, 2015. Prior to assuming his current teaching position, Dr. Machunda taught Principles of Microeconomics at three universities in the United States of America: Minnesota State University Moorhead, Indiana University, Bloomington and the University of Minnesota-Crookston. Dr. Machunda has taught the following courses at the university level: Principles of Microeconomics, Principles of Macroeconomics, Introductory Statistics for regional planning majors, Essentials of Economics (The American Economy), Global Economic Issues and the Economics of Poverty, Discrimination and Inequality. Dr. Machunda is committed to helping students to evolve as independent learners and potential contributors to knowledge production. In the past he has taught First Year Experience, and he has mentored undergraduate, Minnesota State University-Moorhead students that were engaged in research for presentation at The Student Academic Conference.'},\n",
       " 'Raymond March': {'Website': 'https://www.ndsu.edu/centers/pcpe/about/directory/raymond_march/',\n",
       "  'Areas of Specialization': ' His research examines the public and private provision and governance of health care in the United States, particularly in pharmaceutical markets',\n",
       "  'Bio': 'Raymond March is a faculty fellow at the NDSU Center for the Study of Public Choice and Private Enterprise (PCPE) and an assistant professor in the NDSU Department of Agribusiness and Applied Economics. He teaches courses in microeconomics, the history of economic thought, and health economics. His research examines the public and private provision and governance of health care in the United States, particularly in pharmaceutical markets. His research has appeared in Research Policy, Journal of Institutional Economics, International Review of Economics, Journal of Health Care and Finance, and other academic publications. He has published articles in the Washington Examiner, The Hill, Real Clear Health, Sun Sentinel, and elsewhere. Raymond is also a research fellow at the Independent Institute and the director of FDAReview.org, an educational research and communications project on the U.S. Food and Drug Administration (FDA). He regularly blogs on health policy at The Beacon. Raymond resides in Fargo with his wife, Amy, daughter Tinsley, son Grant, and two ill-behaved cats.'},\n",
       " 'David Roberts': {'Website': 'https://www.ndsu.edu/agecon/faculty/roberts/',\n",
       "  'Areas of Specialization': 'David is particularly interested in the economics of precision agriculture technologies and the response of cropping patterns and land use change to emerging biofuels policy at the Federal level',\n",
       "  'Bio': 'David Roberts is an Assistant Professor of Agribusiness and Applied Economics at North Dakota State University. His research focuses on the impacts of agricultural production methods on the environment and natural resources. David is particularly interested in the economics of precision agriculture technologies and the response of cropping patterns and land use change to emerging biofuels policy at the Federal level. His doctoral dissertation research investigated the relative profitability of several different mid-season optimal nitrogen rate prediction systems for winter wheat in Oklahoma, and investigated how incorporation of uncertainty in estimated and predicted production functions can increase the profitability of the prediction systems. David’s MS thesis investigated the suitability of water quality trading as a policy instrument for dealing with nutrient runoff from agricultural operations in Tennessee. Results showed conditions in polluted watersheds in Tennessee likely will not support robust trading in water quality allowances or offsets.'}}"
      ]
     },
     "execution_count": 2,
     "metadata": {},
     "output_type": "execute_result"
    }
   ],
   "source": [
    "faculty_dict =  {\"William Nganje\":{\"Website\":\"https://www.ndsu.edu/agecon/faculty/william_nganje/#c622350\", \n",
    "                                     \"Areas of Specialization\":\"Risk management; financial analysis; economics of obesity, food safety and food terrorism; experimental economics; and consumer choice theory\",\n",
    "                                     \"Bio\":\"NA\"},\n",
    "                 \"David Bullock\": {\"Website\":\"https://www.ndsu.edu/agecon/faculty/bullock/#c622728\",\n",
    "                                    \"Areas of Specialization\": \"futures and options markets, over-the-counter derivatives, trading, risk management, agrifinance, Monte Carlo simulation, and Big Data\",\n",
    "                                    \"Bio\":\"Dr. David W. Bullock is a Research Associate Professor affiliated with the Center for Trading and Risk at NDSU.  His research interests include futures and options markets, over-the-counter derivatives, trading, risk management, agrifinance, Monte Carlo simulation, and Big Data applications in agriculture.  His academic research in option portfolio theory has been published in both the Journal of Economics and Business and the International Review of Economics and Finance.  Additionally, he was the primary contributor behind the AgriBank Insights publication series which won a National AgriMarketing Association (NAMA) award for the best company publication in 2016. Before coming to NDSU in January 2018, Dr. Bullock held numerous positions for over 25 years in the government and private sectors including the Senior Economist at AgriBank FCB – the regional Farm Credit System funding bank for the Upper Midwest region, Director of Research and Senior Foods Economist at Fortune 500 commodity risk management firm INTL FCStone Inc., the Senior Dairy Analyst at Informa Economics, a Risk Management Specialist with the Minnesota Department of Agriculture, and the Senior Economist at the Minneapolis Grain Exchange. David began his academic career as an Assistant Professor and Extension Marketing Economist at Montana State University after graduating from Iowa State University with a Ph.D. in agricultural economics with fields in agricultural price analysis and econometrics in 1989.  Prior to entering ISU, he received bachelor’s (1982) and master’s (1984) degrees in agricultural economics from Northwest Missouri State University. Dr. Bullock is originally from the small northwestern Missouri farming community of Lathrop which is located 40 miles north of the Kansas City metropolitan area.  While in high school, he served as a regional state Vice-President in the Future Farmers of America (FFA) during his senior year.\"},\n",
    "                 \"James Caton\": {\"Website\":\"https://www.ndsu.edu/centers/pcpe/about/directory/james_caton/\",\n",
    "                                 \"Areas of Specialization\": \"Entrepreneurship, Institutions, Macroeconomics, Computation\",\n",
    "                                 \"Bio\":\"James Caton is a faculty fellow at the NDSU Center for the Study of Public Choice and Private Enterprise (PCPE) and an assistant professor in the NDSU Department of Agribusiness and Applied Economics. He teaches undergraduate courses in the areas of macroeconomics, international trade, and computation. He specializes in research related to entrepreneurship, agent-based computational economics, market process theory, and monetary economics. His research has been published in the Southern Economic Journal, Erasmus Journal for Philosophy and Economics, Journal of Entrepreneurship and Public Policy and other academic publications. He co-edited Macroeconomics, a two volume set of essays and primary sources that represent the core of macroeconomic thought. He is also a regular contributor to the American Institute for Economic Research's Sound Money Project, which conducts research and promotes awareness about monetary stability and financial privacy. He resides in Fargo with his wife, Ingrid, and their children.\"},\n",
    "                 \"David Englund\": {\"Website\":\"https://www.ndsu.edu/agecon/faculty/englund/#c622903\",\n",
    "                                 \"Areas of Specialization\": \"Teaches Economic Principles, Led NDSU NAMA to National Champions\",\n",
    "                                 \"Bio\":\"David Englund is a lecturer in the department.  He came to the department with 16 years of teaching experience, having taught Principles of Microeconomics, Principles of Macroeconomics, Money and Banking, Consumer Behavior, Selected Topics in Business, and several other classes.  He also had 10 years’ experience advising student NAMA chapters, having been awarded the Outstanding Advisor of the Year for a Developing Chapter in 2002, and the Outstanding Advisor of the Year award in 2009.\\nDavid primarily teaches Survey of Economics, Principles of Microeconomics, Skills for Academic Success, Agricultural Marketing, and NAMA (co-teaches).  He joined the NAMA team in the 2014-2015 school year as a co-advisor and helped coach the student team to a 3rd place finish in the national student marketing plan competition at the national conference.\\nSome of David’s outside interests are jogging, photography, and writing fiction novels.  His latest release, Camouflaged Encounters has received positive reviews.\"},\n",
    "                 \"Erik Hanson\": {\"Website\":\"https://www.ndsu.edu/agecon/faculty/hanson/#c622905\",\n",
    "                                 \"Areas of Specialization\": \"Ag Management, Ag Finance\",\n",
    "                                 \"Bio\":\"Erik Hanson is an Assistant Professor in the Department of Agricultural and Applied Economics. He teaches courses on agribusiness management and agricultural finance. Erik completed his Ph.D. at the University of Minnesota in 2016. Prior to that, Erik completed a master’s degree at the University of Illinois (2013) and a bachelor’s degree at Minnesota State University Moorhead (2011).\"},\n",
    "                 \"Jeremy Jackson\": {\"Website\":\"https://www.ndsu.edu/centers/pcpe/about/directory/jeremy_jackson/\",\n",
    "                                 \"Areas of Specialization\": \"Public choice and Political economics\",\n",
    "                                 \"Bio\":\"Jeremy Jackson is the director of the NDSU Center for the Study of Public Choice and Private Enterprise (PCPE) and a professor in the NDSU Department of Agribusiness and Applied Economics. He teaches undergraduate and graduate courses in the areas of microeconomics, public economics, and game theory and strategy. His research covers diverse topics, including public choice and the political economy; the social consequences of economic freedom; happiness and well-being; and philanthropy and nonprofits. His research has been published in Applied Economics, The Independent Review, Public Choice, Contemporary Economic Policy, Journal of Happiness Studies, and other refereed and non-refereed sources. He is a member of the Foundation for Economic Education Faculty Network, American Economic Association, Association of Private Enterprise Education, Omnicron Delta Epsilon, Public Choice Society, and Association for Public Economic Theory. Jeremy resides in Fargo with his wife, Dr. Elizabeth Crawford, and their two sons.\"},\n",
    "                  \"Siew Lim\": {\"Website\":\"https://www.ndsu.edu/agecon/faculty/lim/\",\n",
    "                                 \"Areas of Specialization\": \"applied microeconomics, production economics, industrial organization, transportation and regional development\",\n",
    "                                 \"Bio\":\"Siew Hoon Lim is an associate professor of economics. Her current research is in applied microeconomics, production economics, industrial organization, transportation and regional development. Her recent research works include transportation and  regional development.\"},\n",
    "                 \"Zachary Machunda\": {\"Website\":\"https://www.ndsu.edu/agecon/faculty/machunda/\",\n",
    "                                 \"Areas of Specialization\": \"Principles of Microeconomics, Principles of Macroeconomics, Introductory Statistics for regional planning majors, Essentials of Economics (The American Economy), Global Economic Issues and the Economics of Poverty, Discrimination and Inequality\",\n",
    "                                 \"Bio\":\"Dr. Zachary B. Machunda joined the Department of Agribusiness and Applied Economics at NDSU in fall, 2015. Prior to assuming his current teaching position, Dr. Machunda taught Principles of Microeconomics at three universities in the United States of America: Minnesota State University Moorhead, Indiana University, Bloomington and the University of Minnesota-Crookston. Dr. Machunda has taught the following courses at the university level: Principles of Microeconomics, Principles of Macroeconomics, Introductory Statistics for regional planning majors, Essentials of Economics (The American Economy), Global Economic Issues and the Economics of Poverty, Discrimination and Inequality. Dr. Machunda is committed to helping students to evolve as independent learners and potential contributors to knowledge production. In the past he has taught First Year Experience, and he has mentored undergraduate, Minnesota State University-Moorhead students that were engaged in research for presentation at The Student Academic Conference.\"},\n",
    "                 \"Raymond March\": {\"Website\":\"https://www.ndsu.edu/centers/pcpe/about/directory/raymond_march/\",\n",
    "                                 \"Areas of Specialization\": \" His research examines the public and private provision and governance of health care in the United States, particularly in pharmaceutical markets\",\n",
    "                                 \"Bio\":\"Raymond March is a faculty fellow at the NDSU Center for the Study of Public Choice and Private Enterprise (PCPE) and an assistant professor in the NDSU Department of Agribusiness and Applied Economics. He teaches courses in microeconomics, the history of economic thought, and health economics. His research examines the public and private provision and governance of health care in the United States, particularly in pharmaceutical markets. His research has appeared in Research Policy, Journal of Institutional Economics, International Review of Economics, Journal of Health Care and Finance, and other academic publications. He has published articles in the Washington Examiner, The Hill, Real Clear Health, Sun Sentinel, and elsewhere. Raymond is also a research fellow at the Independent Institute and the director of FDAReview.org, an educational research and communications project on the U.S. Food and Drug Administration (FDA). He regularly blogs on health policy at The Beacon. Raymond resides in Fargo with his wife, Amy, daughter Tinsley, son Grant, and two ill-behaved cats.\"},\n",
    "                 \"David Roberts\": {\"Website\":\"https://www.ndsu.edu/agecon/faculty/roberts/\",\n",
    "                                 \"Areas of Specialization\": \"David is particularly interested in the economics of precision agriculture technologies and the response of cropping patterns and land use change to emerging biofuels policy at the Federal level\",\n",
    "                                 \"Bio\":\"David Roberts is an Assistant Professor of Agribusiness and Applied Economics at North Dakota State University. His research focuses on the impacts of agricultural production methods on the environment and natural resources. David is particularly interested in the economics of precision agriculture technologies and the response of cropping patterns and land use change to emerging biofuels policy at the Federal level. His doctoral dissertation research investigated the relative profitability of several different mid-season optimal nitrogen rate prediction systems for winter wheat in Oklahoma, and investigated how incorporation of uncertainty in estimated and predicted production functions can increase the profitability of the prediction systems. David’s MS thesis investigated the suitability of water quality trading as a policy instrument for dealing with nutrient runoff from agricultural operations in Tennessee. Results showed conditions in polluted watersheds in Tennessee likely will not support robust trading in water quality allowances or offsets.\"}}\n",
    "                                   \n",
    "faculty_dict"
   ]
  },
  {
   "cell_type": "code",
   "execution_count": 4,
   "metadata": {
    "scrolled": true
   },
   "outputs": [
    {
     "ename": "NameError",
     "evalue": "name 'pd' is not defined",
     "output_type": "error",
     "traceback": [
      "\u001b[1;31m---------------------------------------------------------------------------\u001b[0m",
      "\u001b[1;31mNameError\u001b[0m                                 Traceback (most recent call last)",
      "\u001b[1;32m<ipython-input-4-bd3bb1a09cd8>\u001b[0m in \u001b[0;36m<module>\u001b[1;34m\u001b[0m\n\u001b[1;32m----> 1\u001b[1;33m \u001b[0mfaculty_df\u001b[0m \u001b[1;33m=\u001b[0m \u001b[0mpd\u001b[0m\u001b[1;33m.\u001b[0m\u001b[0mDataFrame\u001b[0m\u001b[1;33m(\u001b[0m\u001b[0mfaculty_dict\u001b[0m\u001b[1;33m)\u001b[0m\u001b[1;33m\u001b[0m\u001b[1;33m\u001b[0m\u001b[0m\n\u001b[0m\u001b[0;32m      2\u001b[0m \u001b[1;31m# to save a dictionary as a dataframe, pass the dictionary to pd.DataFrame()\u001b[0m\u001b[1;33m\u001b[0m\u001b[1;33m\u001b[0m\u001b[1;33m\u001b[0m\u001b[0m\n\u001b[0;32m      3\u001b[0m \u001b[0mFaculty_df\u001b[0m\u001b[1;33m.\u001b[0m\u001b[0mto_csv\u001b[0m\u001b[1;33m(\u001b[0m\u001b[1;34m\"NDSUAAEFacultyInfo.csv\"\u001b[0m\u001b[1;33m)\u001b[0m\u001b[1;33m\u001b[0m\u001b[1;33m\u001b[0m\u001b[0m\n\u001b[0;32m      4\u001b[0m \u001b[0mfaculty_df\u001b[0m\u001b[1;33m\u001b[0m\u001b[1;33m\u001b[0m\u001b[0m\n",
      "\u001b[1;31mNameError\u001b[0m: name 'pd' is not defined"
     ]
    }
   ],
   "source": [
    "faculty_df = pd.DataFrame(faculty_dict)\n",
    "# to save a dictionary as a dataframe, pass the dictionary to pd.DataFrame()\n",
    "Faculty_df.to_csv(\"NDSUAAEFacultyInfo.csv\")\n",
    "faculty_df"
   ]
  },
  {
   "cell_type": "code",
   "execution_count": 6,
   "metadata": {},
   "outputs": [
    {
     "data": {
      "text/html": [
       "<div>\n",
       "<style scoped>\n",
       "    .dataframe tbody tr th:only-of-type {\n",
       "        vertical-align: middle;\n",
       "    }\n",
       "\n",
       "    .dataframe tbody tr th {\n",
       "        vertical-align: top;\n",
       "    }\n",
       "\n",
       "    .dataframe thead th {\n",
       "        text-align: right;\n",
       "    }\n",
       "</style>\n",
       "<table border=\"1\" class=\"dataframe\">\n",
       "  <thead>\n",
       "    <tr style=\"text-align: right;\">\n",
       "      <th></th>\n",
       "      <th>William Nganje</th>\n",
       "      <th>David Bullock</th>\n",
       "      <th>James Caton</th>\n",
       "      <th>David Englund</th>\n",
       "      <th>Erik Hanson</th>\n",
       "      <th>Jeremy Jackson</th>\n",
       "      <th>Siew Lim</th>\n",
       "      <th>Zachary Machunda</th>\n",
       "      <th>Raymond March</th>\n",
       "      <th>David Roberts</th>\n",
       "    </tr>\n",
       "  </thead>\n",
       "  <tbody>\n",
       "    <tr>\n",
       "      <th>Website</th>\n",
       "      <td>https://www.ndsu.edu/agecon/faculty/william_ng...</td>\n",
       "      <td>https://www.ndsu.edu/agecon/faculty/bullock/#c...</td>\n",
       "      <td>https://www.ndsu.edu/centers/pcpe/about/direct...</td>\n",
       "      <td>https://www.ndsu.edu/agecon/faculty/englund/#c...</td>\n",
       "      <td>https://www.ndsu.edu/agecon/faculty/hanson/#c6...</td>\n",
       "      <td>https://www.ndsu.edu/centers/pcpe/about/direct...</td>\n",
       "      <td>https://www.ndsu.edu/agecon/faculty/lim/</td>\n",
       "      <td>https://www.ndsu.edu/agecon/faculty/machunda/</td>\n",
       "      <td>https://www.ndsu.edu/centers/pcpe/about/direct...</td>\n",
       "      <td>https://www.ndsu.edu/agecon/faculty/roberts/</td>\n",
       "    </tr>\n",
       "    <tr>\n",
       "      <th>Areas of Specialization</th>\n",
       "      <td>Risk management; financial analysis; economics...</td>\n",
       "      <td>futures and options markets, over-the-counter ...</td>\n",
       "      <td>Entrepreneurship, Institutions, Macroeconomics...</td>\n",
       "      <td>Teaches Economic Principles, Led NDSU NAMA to ...</td>\n",
       "      <td>Ag Management, Ag Finance</td>\n",
       "      <td>Public choice and Political economics</td>\n",
       "      <td>applied microeconomics, production economics, ...</td>\n",
       "      <td>Principles of Microeconomics, Principles of Ma...</td>\n",
       "      <td>His research examines the public and private ...</td>\n",
       "      <td>David is particularly interested in the econom...</td>\n",
       "    </tr>\n",
       "    <tr>\n",
       "      <th>Bio</th>\n",
       "      <td>NA</td>\n",
       "      <td>Dr. David W. Bullock is a Research Associate P...</td>\n",
       "      <td>James Caton is a faculty fellow at the NDSU Ce...</td>\n",
       "      <td>David Englund is a lecturer in the department....</td>\n",
       "      <td>Erik Hanson is an Assistant Professor in the D...</td>\n",
       "      <td>Jeremy Jackson is the director of the NDSU Cen...</td>\n",
       "      <td>Siew Hoon Lim is an associate professor of eco...</td>\n",
       "      <td>Dr. Zachary B. Machunda joined the Department ...</td>\n",
       "      <td>Raymond March is a faculty fellow at the NDSU ...</td>\n",
       "      <td>David Roberts is an Assistant Professor of Agr...</td>\n",
       "    </tr>\n",
       "  </tbody>\n",
       "</table>\n",
       "</div>"
      ],
      "text/plain": [
       "                                                            William Nganje  \\\n",
       "Website                  https://www.ndsu.edu/agecon/faculty/william_ng...   \n",
       "Areas of Specialization  Risk management; financial analysis; economics...   \n",
       "Bio                                                                     NA   \n",
       "\n",
       "                                                             David Bullock  \\\n",
       "Website                  https://www.ndsu.edu/agecon/faculty/bullock/#c...   \n",
       "Areas of Specialization  futures and options markets, over-the-counter ...   \n",
       "Bio                      Dr. David W. Bullock is a Research Associate P...   \n",
       "\n",
       "                                                               James Caton  \\\n",
       "Website                  https://www.ndsu.edu/centers/pcpe/about/direct...   \n",
       "Areas of Specialization  Entrepreneurship, Institutions, Macroeconomics...   \n",
       "Bio                      James Caton is a faculty fellow at the NDSU Ce...   \n",
       "\n",
       "                                                             David Englund  \\\n",
       "Website                  https://www.ndsu.edu/agecon/faculty/englund/#c...   \n",
       "Areas of Specialization  Teaches Economic Principles, Led NDSU NAMA to ...   \n",
       "Bio                      David Englund is a lecturer in the department....   \n",
       "\n",
       "                                                               Erik Hanson  \\\n",
       "Website                  https://www.ndsu.edu/agecon/faculty/hanson/#c6...   \n",
       "Areas of Specialization                          Ag Management, Ag Finance   \n",
       "Bio                      Erik Hanson is an Assistant Professor in the D...   \n",
       "\n",
       "                                                            Jeremy Jackson  \\\n",
       "Website                  https://www.ndsu.edu/centers/pcpe/about/direct...   \n",
       "Areas of Specialization              Public choice and Political economics   \n",
       "Bio                      Jeremy Jackson is the director of the NDSU Cen...   \n",
       "\n",
       "                                                                  Siew Lim  \\\n",
       "Website                           https://www.ndsu.edu/agecon/faculty/lim/   \n",
       "Areas of Specialization  applied microeconomics, production economics, ...   \n",
       "Bio                      Siew Hoon Lim is an associate professor of eco...   \n",
       "\n",
       "                                                          Zachary Machunda  \\\n",
       "Website                      https://www.ndsu.edu/agecon/faculty/machunda/   \n",
       "Areas of Specialization  Principles of Microeconomics, Principles of Ma...   \n",
       "Bio                      Dr. Zachary B. Machunda joined the Department ...   \n",
       "\n",
       "                                                             Raymond March  \\\n",
       "Website                  https://www.ndsu.edu/centers/pcpe/about/direct...   \n",
       "Areas of Specialization   His research examines the public and private ...   \n",
       "Bio                      Raymond March is a faculty fellow at the NDSU ...   \n",
       "\n",
       "                                                             David Roberts  \n",
       "Website                       https://www.ndsu.edu/agecon/faculty/roberts/  \n",
       "Areas of Specialization  David is particularly interested in the econom...  \n",
       "Bio                      David Roberts is an Assistant Professor of Agr...  "
      ]
     },
     "execution_count": 6,
     "metadata": {},
     "output_type": "execute_result"
    }
   ],
   "source": [
    "faculty_df = pd.DataFrame(faculty_dict)\n",
    "# to save a dictionary as a dataframe, pass the dictionary to pd.DataFrame()\n",
    "faculty_df.to_csv(\"NDSUAAEFacultyInfo.csv\")\n",
    "faculty_df"
   ]
  },
  {
   "cell_type": "code",
   "execution_count": 14,
   "metadata": {},
   "outputs": [
    {
     "data": {
      "text/plain": [
       "{'Jack Peterson': {'Reason for taking course': 'My hobby includes trading on the stock market and I thought this would be a useful skill in such a setting',\n",
       "  'Future Plans': 'Go to law school'}}"
      ]
     },
     "execution_count": 14,
     "metadata": {},
     "output_type": "execute_result"
    }
   ],
   "source": [
    "self_dict = {\"Jack Peterson\" : {\"Reason for taking course\":\"My hobby includes trading on the stock market and I thought this would be a useful skill in such a setting\",\n",
    "                               \"Future Plans\":\"Go to law school\"}}\n",
    "self_dict"
   ]
  },
  {
   "cell_type": "code",
   "execution_count": 17,
   "metadata": {},
   "outputs": [
    {
     "data": {
      "text/html": [
       "<div>\n",
       "<style scoped>\n",
       "    .dataframe tbody tr th:only-of-type {\n",
       "        vertical-align: middle;\n",
       "    }\n",
       "\n",
       "    .dataframe tbody tr th {\n",
       "        vertical-align: top;\n",
       "    }\n",
       "\n",
       "    .dataframe thead th {\n",
       "        text-align: right;\n",
       "    }\n",
       "</style>\n",
       "<table border=\"1\" class=\"dataframe\">\n",
       "  <thead>\n",
       "    <tr style=\"text-align: right;\">\n",
       "      <th></th>\n",
       "      <th>Jack Peterson</th>\n",
       "    </tr>\n",
       "  </thead>\n",
       "  <tbody>\n",
       "    <tr>\n",
       "      <th>Future Plans</th>\n",
       "      <td>Go to law school</td>\n",
       "    </tr>\n",
       "    <tr>\n",
       "      <th>Reason for taking course</th>\n",
       "      <td>My hobby includes trading on the stock market ...</td>\n",
       "    </tr>\n",
       "  </tbody>\n",
       "</table>\n",
       "</div>"
      ],
      "text/plain": [
       "                                                              Jack Peterson\n",
       "Future Plans                                               Go to law school\n",
       "Reason for taking course  My hobby includes trading on the stock market ..."
      ]
     },
     "execution_count": 17,
     "metadata": {},
     "output_type": "execute_result"
    }
   ],
   "source": [
    "import pandas as pd\n",
    "self_dict = pd.DataFrame (self_dict)\n",
    "self_dict.to_csv('Homework_1a')\n",
    "self_dict"
   ]
  },
  {
   "cell_type": "code",
   "execution_count": 21,
   "metadata": {},
   "outputs": [
    {
     "data": {
      "text/plain": [
       "{'Joe Rogan': {'Occupation': 'Media Personality',\n",
       "  'Bio': 'Rogan is a media personality who has many of different people on his podcast. Hes also a comic. Humor in my opinion is one of the most important things in life',\n",
       "  'Website': 'https://en.wikipedia.org/wiki/Joe_Rogan'},\n",
       " 'Jim Carey': {'Occupation': 'Comedian/Actor',\n",
       "  'Bio': 'Jim is an actor that I have always enjoyed in flicks. Whether it be pet detective, or a more serious movie like the Truman Show Jim always does a good job.',\n",
       "  'Website': 'https://en.wikipedia.org/wiki/Jim_Carrey'},\n",
       " 'Dennis Rodman': {'Occupation': 'Professional basketball player',\n",
       "  'Bio': 'The man who does all of the dirty work. Dennis gets very little recognition for what he did on the bulls in comparison to MJ or Pippen. On top of his impact on the bulls his rise from a troublesome upbringing is quite incredible',\n",
       "  'Website': 'https://en.wikipedia.org/wiki/Dennis_Rodman'},\n",
       " 'Andrew Yang': {'Occupation': 'Politician/Entreprenuer',\n",
       "  'Bio': 'Andrew is a entreprenuer turned politician. I think his ideas of universal income are interesting topics and his background story is another great one.',\n",
       "  'Website': 'https://www.yang2020.com/'},\n",
       " 'Peter Norman': {'Occupation': 'Olympic Athlete',\n",
       "  'Bio': 'Norman was a track runner for Australia. His decision to stick his neck out for guys he was competing against is quite influential',\n",
       "  'Website': 'https://en.wikipedia.org/wiki/Peter_Norman'},\n",
       " 'Elon Musk': {'Occupation': 'Entreprenuer',\n",
       "  'Bio': 'An entreprenuer who has ideas that can possibly change the world for the better. His Neuralink is also an interesting invention',\n",
       "  'Website': 'https://www.biography.com/business-figure/elon-musk'},\n",
       " 'Kanye West': {'Occupation': 'Musician',\n",
       "  'Bio': 'A musician who has created non-stop classic hip-hop albums. The only issues I have with Kanye is his inability to take his Bipolar Disorder medication',\n",
       "  'Website': 'https://www.kanyewest.com/'},\n",
       " 'Damian Lillard': {'Occupation': 'Professional Basketball Player',\n",
       "  'Bio': 'A player who has grinded from start to finish. He has the classic playmaker build with great shooting and finishing around teh rim. On top of that his attitude is what seperates him form the competition',\n",
       "  'Website': 'https://www.nba.com/players/damian/lillard/203081'},\n",
       " 'Ray March': {'Occupation': 'Economics teacher at NDSU',\n",
       "  'Bio': 'My intermediate micro teacher, he was a very relatable guy and was quite funny. I also found his research with diets and foodstamps to be interesting',\n",
       "  'Website': 'https://www.ndsu.edu/centers/pcpe/about/directory/raymond_march/'},\n",
       " 'Clay Routledge': {'Occupation': 'Psychology teacher at NDSU',\n",
       "  'Bio': 'A teacher who I have worked under in a research lab. His work is quite interesting and mixes with economics quite well. He will be switching to the school of business next year I believe!',\n",
       "  'Website': 'https://www.ndsu.edu/challeyinstitute/about/meet_the_team/fellows/clay_routledge/'}}"
      ]
     },
     "execution_count": 21,
     "metadata": {},
     "output_type": "execute_result"
    }
   ],
   "source": [
    "dct_admire = {\"Joe Rogan\":{\"Occupation\":\"Media Personality\", \n",
    "                \"Bio\": \"Rogan is a media personality who has many of different people on his podcast. Hes also a comic. Humor in my opinion is one of the most important things in life\",\n",
    "                \"Website\": \"https://en.wikipedia.org/wiki/Joe_Rogan\"},\n",
    "             \"Jim Carey\":{\"Occupation\":\"Comedian/Actor\",\n",
    "                \"Bio\": \"Jim is an actor that I have always enjoyed in flicks. Whether it be pet detective, or a more serious movie like the Truman Show Jim always does a good job.\",\n",
    "                \"Website\": \"https://en.wikipedia.org/wiki/Jim_Carrey\"},\n",
    "             \"Dennis Rodman\":{\"Occupation\":\"Professional basketball player\",\n",
    "                \"Bio\":\"The man who does all of the dirty work. Dennis gets very little recognition for what he did on the bulls in comparison to MJ or Pippen. On top of his impact on the bulls his rise from a troublesome upbringing is quite incredible\",\n",
    "                \"Website\":\"https://en.wikipedia.org/wiki/Dennis_Rodman\"},\n",
    "              \"Andrew Yang\":{\"Occupation\":\"Politician/Entreprenuer\",\n",
    "                \"Bio\": \"Andrew is a entreprenuer turned politician. I think his ideas of universal income are interesting topics and his background story is another great one.\",\n",
    "                \"Website\": \"https://www.yang2020.com/\"},\n",
    "              \"Peter Norman\":{\"Occupation\":\"Olympic Athlete\",\n",
    "                \"Bio\": \"Norman was a track runner for Australia. His decision to stick his neck out for guys he was competing against is quite influential\",\n",
    "                \"Website\": \"https://en.wikipedia.org/wiki/Peter_Norman\"},\n",
    "              \"Elon Musk\":{\"Occupation\":\"Entreprenuer\",\n",
    "                \"Bio\":\"An entreprenuer who has ideas that can possibly change the world for the better. His Neuralink is also an interesting invention\",\n",
    "                \"Website\":\"https://www.biography.com/business-figure/elon-musk\"},\n",
    "              \"Kanye West\":{\"Occupation\":\"Musician\",\n",
    "                \"Bio\": \"A musician who has created non-stop classic hip-hop albums. The only issues I have with Kanye is his inability to take his Bipolar Disorder medication\",\n",
    "                \"Website\": \"https://www.kanyewest.com/\"},\n",
    "              \"Damian Lillard\":{\"Occupation\": \"Professional Basketball Player\",\n",
    "                \"Bio\":\"A player who has grinded from start to finish. He has the classic playmaker build with great shooting and finishing around teh rim. On top of that his attitude is what seperates him form the competition\",\n",
    "                \"Website\":\"https://www.nba.com/players/damian/lillard/203081\"},\n",
    "              \"Ray March\":{'Occupation':\"Economics teacher at NDSU\",\n",
    "                \"Bio\":\"My intermediate micro teacher, he was a very relatable guy and was quite funny. I also found his research with diets and foodstamps to be interesting\",\n",
    "                \"Website\":\"https://www.ndsu.edu/centers/pcpe/about/directory/raymond_march/\"},\n",
    "              \"Clay Routledge\": {'Occupation':\"Psychology teacher at NDSU\",\n",
    "                \"Bio\":\"A teacher who I have worked under in a research lab. His work is quite interesting and mixes with economics quite well. He will be switching to the school of business next year I believe!\",\n",
    "                \"Website\":\"https://www.ndsu.edu/challeyinstitute/about/meet_the_team/fellows/clay_routledge/\"}\n",
    "             }\n",
    "dct_admire"
   ]
  },
  {
   "cell_type": "code",
   "execution_count": 22,
   "metadata": {},
   "outputs": [
    {
     "data": {
      "text/html": [
       "<div>\n",
       "<style scoped>\n",
       "    .dataframe tbody tr th:only-of-type {\n",
       "        vertical-align: middle;\n",
       "    }\n",
       "\n",
       "    .dataframe tbody tr th {\n",
       "        vertical-align: top;\n",
       "    }\n",
       "\n",
       "    .dataframe thead th {\n",
       "        text-align: right;\n",
       "    }\n",
       "</style>\n",
       "<table border=\"1\" class=\"dataframe\">\n",
       "  <thead>\n",
       "    <tr style=\"text-align: right;\">\n",
       "      <th></th>\n",
       "      <th>Joe Rogan</th>\n",
       "      <th>Jim Carey</th>\n",
       "      <th>Dennis Rodman</th>\n",
       "      <th>Andrew Yang</th>\n",
       "      <th>Peter Norman</th>\n",
       "      <th>Elon Musk</th>\n",
       "      <th>Kanye West</th>\n",
       "      <th>Damian Lillard</th>\n",
       "      <th>Ray March</th>\n",
       "      <th>Clay Routledge</th>\n",
       "    </tr>\n",
       "  </thead>\n",
       "  <tbody>\n",
       "    <tr>\n",
       "      <th>Occupation</th>\n",
       "      <td>Media Personality</td>\n",
       "      <td>Comedian/Actor</td>\n",
       "      <td>Professional basketball player</td>\n",
       "      <td>Politician/Entreprenuer</td>\n",
       "      <td>Olympic Athlete</td>\n",
       "      <td>Entreprenuer</td>\n",
       "      <td>Musician</td>\n",
       "      <td>Professional Basketball Player</td>\n",
       "      <td>Economics teacher at NDSU</td>\n",
       "      <td>Psychology teacher at NDSU</td>\n",
       "    </tr>\n",
       "    <tr>\n",
       "      <th>Bio</th>\n",
       "      <td>Rogan is a media personality who has many of d...</td>\n",
       "      <td>Jim is an actor that I have always enjoyed in ...</td>\n",
       "      <td>The man who does all of the dirty work. Dennis...</td>\n",
       "      <td>Andrew is a entreprenuer turned politician. I ...</td>\n",
       "      <td>Norman was a track runner for Australia. His d...</td>\n",
       "      <td>An entreprenuer who has ideas that can possibl...</td>\n",
       "      <td>A musician who has created non-stop classic hi...</td>\n",
       "      <td>A player who has grinded from start to finish....</td>\n",
       "      <td>My intermediate micro teacher, he was a very r...</td>\n",
       "      <td>A teacher who I have worked under in a researc...</td>\n",
       "    </tr>\n",
       "    <tr>\n",
       "      <th>Website</th>\n",
       "      <td>https://en.wikipedia.org/wiki/Joe_Rogan</td>\n",
       "      <td>https://en.wikipedia.org/wiki/Jim_Carrey</td>\n",
       "      <td>https://en.wikipedia.org/wiki/Dennis_Rodman</td>\n",
       "      <td>https://www.yang2020.com/</td>\n",
       "      <td>https://en.wikipedia.org/wiki/Peter_Norman</td>\n",
       "      <td>https://www.biography.com/business-figure/elon...</td>\n",
       "      <td>https://www.kanyewest.com/</td>\n",
       "      <td>https://www.nba.com/players/damian/lillard/203081</td>\n",
       "      <td>https://www.ndsu.edu/centers/pcpe/about/direct...</td>\n",
       "      <td>https://www.ndsu.edu/challeyinstitute/about/me...</td>\n",
       "    </tr>\n",
       "  </tbody>\n",
       "</table>\n",
       "</div>"
      ],
      "text/plain": [
       "                                                    Joe Rogan  \\\n",
       "Occupation                                  Media Personality   \n",
       "Bio         Rogan is a media personality who has many of d...   \n",
       "Website               https://en.wikipedia.org/wiki/Joe_Rogan   \n",
       "\n",
       "                                                    Jim Carey  \\\n",
       "Occupation                                     Comedian/Actor   \n",
       "Bio         Jim is an actor that I have always enjoyed in ...   \n",
       "Website              https://en.wikipedia.org/wiki/Jim_Carrey   \n",
       "\n",
       "                                                Dennis Rodman  \\\n",
       "Occupation                     Professional basketball player   \n",
       "Bio         The man who does all of the dirty work. Dennis...   \n",
       "Website           https://en.wikipedia.org/wiki/Dennis_Rodman   \n",
       "\n",
       "                                                  Andrew Yang  \\\n",
       "Occupation                            Politician/Entreprenuer   \n",
       "Bio         Andrew is a entreprenuer turned politician. I ...   \n",
       "Website                             https://www.yang2020.com/   \n",
       "\n",
       "                                                 Peter Norman  \\\n",
       "Occupation                                    Olympic Athlete   \n",
       "Bio         Norman was a track runner for Australia. His d...   \n",
       "Website            https://en.wikipedia.org/wiki/Peter_Norman   \n",
       "\n",
       "                                                    Elon Musk  \\\n",
       "Occupation                                       Entreprenuer   \n",
       "Bio         An entreprenuer who has ideas that can possibl...   \n",
       "Website     https://www.biography.com/business-figure/elon...   \n",
       "\n",
       "                                                   Kanye West  \\\n",
       "Occupation                                           Musician   \n",
       "Bio         A musician who has created non-stop classic hi...   \n",
       "Website                            https://www.kanyewest.com/   \n",
       "\n",
       "                                               Damian Lillard  \\\n",
       "Occupation                     Professional Basketball Player   \n",
       "Bio         A player who has grinded from start to finish....   \n",
       "Website     https://www.nba.com/players/damian/lillard/203081   \n",
       "\n",
       "                                                    Ray March  \\\n",
       "Occupation                          Economics teacher at NDSU   \n",
       "Bio         My intermediate micro teacher, he was a very r...   \n",
       "Website     https://www.ndsu.edu/centers/pcpe/about/direct...   \n",
       "\n",
       "                                               Clay Routledge  \n",
       "Occupation                         Psychology teacher at NDSU  \n",
       "Bio         A teacher who I have worked under in a researc...  \n",
       "Website     https://www.ndsu.edu/challeyinstitute/about/me...  "
      ]
     },
     "execution_count": 22,
     "metadata": {},
     "output_type": "execute_result"
    }
   ],
   "source": [
    "import pandas as pd\n",
    "dct_admire = pd.DataFrame(dct_admire)\n",
    "dct_admire.to_csv(\"Homework_1b\")\n",
    "dct_admire"
   ]
  },
  {
   "cell_type": "code",
   "execution_count": null,
   "metadata": {},
   "outputs": [],
   "source": []
  }
 ],
 "metadata": {
  "kernelspec": {
   "display_name": "Python 3",
   "language": "python",
   "name": "python3"
  },
  "language_info": {
   "codemirror_mode": {
    "name": "ipython",
    "version": 3
   },
   "file_extension": ".py",
   "mimetype": "text/x-python",
   "name": "python",
   "nbconvert_exporter": "python",
   "pygments_lexer": "ipython3",
   "version": "3.8.3"
  }
 },
 "nbformat": 4,
 "nbformat_minor": 4
}
